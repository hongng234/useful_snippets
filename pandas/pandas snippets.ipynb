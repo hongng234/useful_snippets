{
 "cells": [
  {
   "cell_type": "code",
   "execution_count": 1,
   "metadata": {},
   "outputs": [],
   "source": [
    "import pandas as pd"
   ]
  },
  {
   "cell_type": "markdown",
   "metadata": {},
   "source": [
    "## Reading files, Select columns and Summarizing"
   ]
  },
  {
   "cell_type": "raw",
   "metadata": {},
   "source": [
    "# Reading in a file from local computer or directly from a URL\n",
    "# Various file formats that can be read\n",
    "    \n",
    "Format Type     Data Description      Reader           Writer\n",
    "text                  CSV            read_csv          to_csv\n",
    "text                 JSON            read_json         to_json\n",
    "text                 HTML            read_html         to_html\n",
    "text             Local clipboard  read_clipboard     to_clipboard\n",
    "binary             MS Excel          read_excel        to_excel\n",
    "binary            HDF5 Format        read_hdf           to_hdf\n",
    "binary           Feather Format     read_feather      to_feather\n",
    "binary              Msgpack         read_msgpack      to_msgpack\n",
    "binary               Stata           read_stata        to_stata\n",
    "binary                SAS             read_sas \n",
    "binary        Python Pickle Format   read_pickle       to_pickle\n",
    "SQL                   SQL             read_sql          to_sql\n",
    "SQL             Google Big Query      read_gbq          to_gbq"
   ]
  },
  {
   "cell_type": "code",
   "execution_count": null,
   "metadata": {},
   "outputs": [],
   "source": [
    "# read csv file from local or from a URL\n",
    "df = pd.read_csv('local_path/file.csv')\n",
    "df = pd.read_csv('https://file_path/file.csv')"
   ]
  },
  {
   "cell_type": "code",
   "execution_count": null,
   "metadata": {},
   "outputs": [],
   "source": [
    "# read in a tables, can specify separators\n",
    "df = pd.read_table('https://file_path/file', sep='|', index_col='column_x')"
   ]
  },
  {
   "cell_type": "code",
   "execution_count": null,
   "metadata": {},
   "outputs": [],
   "source": [
    "# Examine the df data\n",
    "df                                        #print the first 30 and last 30 rows\n",
    "type(df)                                  #type dataframe\n",
    "df.head()                                 #print the 1st 5 rows\n",
    "df.head(10)                               #print the 1st 10 rows\n",
    "df.tail()                                 #print the last 5 rows\n",
    "df.tail(10)                               #print the last 10 rows\n",
    "df.index                                  #show the index column\n",
    "df.columns                                #show all columns names in an array\n",
    "df.dtypes                                 #show data types of each column\n",
    "df.shape                                  #show the shape of the dataframe(number of rows and columns)\n",
    "df.values                                 #show all the values of the dataframe(show as a numpy array for efficiencies)"
   ]
  },
  {
   "cell_type": "code",
   "execution_count": null,
   "metadata": {},
   "outputs": [],
   "source": [
    "# Select a column\n",
    "df['column_x']                            #select specified column\n",
    "type(df['column_x'])                      #show the datatype of specified column (e.g Series)\n",
    "df.column_x                               #select the specified column using the dataframe attribute"
   ]
  },
  {
   "cell_type": "code",
   "execution_count": null,
   "metadata": {},
   "outputs": [],
   "source": [
    "# Summarize(describe) a dataframe\n",
    "df.describe()                             #describe all numeric columns\n",
    "df.describe(include=['object'])           #describe all object columns\n",
    "df.describe(include='all')                #describe all columns"
   ]
  },
  {
   "cell_type": "code",
   "execution_count": null,
   "metadata": {},
   "outputs": [],
   "source": [
    "# Summarize a Series\n",
    "df.column_x.describe()                    #describe a single column\n",
    "df.column_x.mean()                        #only calculate the mean of the specified column\n",
    "df['column_x'].mean()                     #alternative method to calculate the mean of the specified column"
   ]
  },
  {
   "cell_type": "code",
   "execution_count": null,
   "metadata": {},
   "outputs": [],
   "source": [
    "# Count the number of occurences of each value\n",
    "df.column_x.value_counts()                #most useful for categorical variables, but can also be used with numeric column"
   ]
  },
  {
   "cell_type": "code",
   "execution_count": null,
   "metadata": {},
   "outputs": [],
   "source": [
    "# Filter dataframe by specified column, and print out values of another column\n",
    "df[df.column_x == 'string_value'].column_y\n",
    "df[df.column_x == 1].column_y"
   ]
  },
  {
   "cell_type": "code",
   "execution_count": null,
   "metadata": {},
   "outputs": [],
   "source": [
    "# Display only the number of rows of the dataframe\n",
    "df.shape[0]\n",
    "# Display only the number of column of the dataframe\n",
    "df.shape[1]"
   ]
  },
  {
   "cell_type": "code",
   "execution_count": null,
   "metadata": {},
   "outputs": [],
   "source": [
    "# Display the 3 most frequent occurances of column in dataframe\n",
    "df.column_x.value_counts()[0:3]"
   ]
  },
  {
   "cell_type": "markdown",
   "metadata": {},
   "source": [
    "## Filtering and Sorting"
   ]
  },
  {
   "cell_type": "code",
   "execution_count": null,
   "metadata": {},
   "outputs": [],
   "source": [
    "# Boolean filtering: only show df with column_x < 20\n",
    "filter_bool = df.columns_x < 20                       #create a series of booleans with condition <20 of a specified column...\n",
    "df[filter_bool]                                       #..and use that series to filter rows\n",
    "df[filter_bool].describe()                            #describe a dataframe filtered by filter_bool\n",
    "df[df.column_x < 20]                                  #or, combine into a single step\n",
    "df[df.column_x < 20].column_y                         #select one column from the filtered results of column_x\n",
    "df[df['column_x'] < 20].column_y                      #alternative method\n",
    "df[df.column_x < 20].column_y.value_counts()          #value_counts of result series, can also use mean() instead of value_counts()"
   ]
  },
  {
   "cell_type": "code",
   "execution_count": null,
   "metadata": {},
   "outputs": [],
   "source": [
    "# Boolean filtering with multiple conditions\n",
    "df[(df.column_x < 20) & (df.column_y == 'string')]    #ampersand for AND condition\n",
    "df[(df.column_x < 20) | (df.column_y > 60)]           #pipe for OR condition"
   ]
  },
  {
   "cell_type": "code",
   "execution_count": null,
   "metadata": {},
   "outputs": [],
   "source": [
    "# Sorting\n",
    "df.column_x.order()                                   #sort a column\n",
    "df.sort_values('column_x')                            #sort a dataframe by a single column\n",
    "df.sort_values('column_x', ascending=False)           #use descending order instead"
   ]
  },
  {
   "cell_type": "code",
   "execution_count": null,
   "metadata": {},
   "outputs": [],
   "source": [
    "# Sort dataframe by multiple columns\n",
    "df = df.sort(['col1','col2','col3'], ascending=[1,1,0])  "
   ]
  },
  {
   "cell_type": "code",
   "execution_count": null,
   "metadata": {},
   "outputs": [],
   "source": [
    "# Can also filter dataframe using pandas.Series.isin\n",
    "df[df.column_x.isin(['string_1','string_2'])]"
   ]
  },
  {
   "cell_type": "markdown",
   "metadata": {},
   "source": [
    "## Renaming, Adding and Removing columns"
   ]
  },
  {
   "cell_type": "code",
   "execution_count": null,
   "metadata": {},
   "outputs": [],
   "source": [
    "# Rename one or more columns\n",
    "df.rename(columns={'original_column_1':'column_x','original_column_2':'column_y'}, inplace=True)   #Saves changes"
   ]
  },
  {
   "cell_type": "code",
   "execution_count": null,
   "metadata": {},
   "outputs": [],
   "source": [
    "# Replace all column names (in place)\n",
    "new_cols = ['column_x','column_y','column_z']\n",
    "df.columns = new_cols"
   ]
  },
  {
   "cell_type": "code",
   "execution_count": null,
   "metadata": {},
   "outputs": [],
   "source": [
    "# Replace all column names when reading the file\n",
    "df = pd.read_csv('df.csv', header=0, names=new_cols)"
   ]
  },
  {
   "cell_type": "code",
   "execution_count": null,
   "metadata": {},
   "outputs": [],
   "source": [
    "# Add a new column as a function of existing columns\n",
    "df['new_column_1'] = df.column_x + df.column_y\n",
    "df['new_column_2'] = df.column_x * 1000           #can create new columns without for loops"
   ]
  },
  {
   "cell_type": "code",
   "execution_count": null,
   "metadata": {},
   "outputs": [],
   "source": [
    "# Removing columns\n",
    "df.drop('column_x', axis=1)                              # axis=0 for rows, axis=1 for columns - does not drop in place\n",
    "df.drop(['column_x','column_y'], axis=1, inplace=True)   # drop multiple columns"
   ]
  },
  {
   "cell_type": "code",
   "execution_count": null,
   "metadata": {},
   "outputs": [],
   "source": [
    "# Lower_case and upper_case all datafram column names\n",
    "df.columns = map(str.lower, df.columns)\n",
    "df.columns = map(str.upper, df.columns)"
   ]
  },
  {
   "cell_type": "code",
   "execution_count": null,
   "metadata": {},
   "outputs": [],
   "source": [
    "# Even more fancy dataframe column re-nameing\n",
    "# lower_case all dataframe column names \n",
    "df.rename(columns=lambda x: x.split('.')[-1], inplace=True)           # ????"
   ]
  },
  {
   "cell_type": "markdown",
   "metadata": {},
   "source": [
    "## Handling Missing Values"
   ]
  },
  {
   "cell_type": "code",
   "execution_count": null,
   "metadata": {},
   "outputs": [],
   "source": [
    "# Missing values are usually excluded by default\n",
    "df.column_x.value_counts()                               #exclude missing values\n",
    "df.column_x.value_counts(dropna=False)                   #include missing values"
   ]
  },
  {
   "cell_type": "code",
   "execution_count": null,
   "metadata": {},
   "outputs": [],
   "source": [
    "# Find missing values in a Series\n",
    "df.column_x.isnull()                                     #True if missing\n",
    "df.column_x.notnull()                                    #True if not missing"
   ]
  },
  {
   "cell_type": "code",
   "execution_count": null,
   "metadata": {},
   "outputs": [],
   "source": [
    "# Use a boolean Series to filter dataframe rows\n",
    "df[df.column_x.isnull()]                                 #only show rows where column_x is missing\n",
    "df[df.column_x.notnull()]                                #only show rows where column_x not missing"
   ]
  },
  {
   "cell_type": "code",
   "execution_count": null,
   "metadata": {},
   "outputs": [],
   "source": [
    "# Understanding axis\n",
    "df.sum()                                                 #sums 'down' the 0 axis(rows)\n",
    "df.sum(axis=0)                                           #alternative(since axis=0 is default)\n",
    "df.sum(axis=1)                                           #sums 'across' the 1 axis(columns)"
   ]
  },
  {
   "cell_type": "code",
   "execution_count": null,
   "metadata": {},
   "outputs": [],
   "source": [
    "# Adding booleans\n",
    "pd.Series([True, False, True])                           #create a boolean Series\n",
    "pd.Series([True, False, True]).sum()                     #converts False to 0 and True to 1"
   ]
  },
  {
   "cell_type": "code",
   "execution_count": null,
   "metadata": {},
   "outputs": [],
   "source": [
    "# Find missing values in dataframe\n",
    "df.isnull()                                              #dataframe of booleans\n",
    "df.isnull().sum()                                        #count the missing values in each column\n",
    "df.isnull().sum().sum()                                  #count the total missing values of all dataframe"
   ]
  },
  {
   "cell_type": "code",
   "execution_count": null,
   "metadata": {},
   "outputs": [],
   "source": [
    "# Drop missing values\n",
    "df.dropna(inplace=True)                                  #drop a row if ANY values are missing, default to rows, but can be applied to columns with axis=1\n",
    "df.dropna(how='all', inplace=True)                       #drop a row only if ALL values are missing"
   ]
  },
  {
   "cell_type": "code",
   "execution_count": null,
   "metadata": {},
   "outputs": [],
   "source": [
    "# Fill in missing values\n",
    "df.column_x.fillna(value='NaN', inplace=True)            #fill the missing values of column_x with 'NaN'\n",
    "df.column_x.fillna(value=np.nan, inplace=True)           #alternative use numpy library\n",
    "#value does not have to equal a string - can be set as some calculated value like df.column_x.mode(), or just a number like 0"
   ]
  },
  {
   "cell_type": "code",
   "execution_count": null,
   "metadata": {},
   "outputs": [],
   "source": [
    "# Turn off the missing value filter\n",
    "df = pd.read_csv('df.csv', header=0, names=new_cols, na_filter=False)"
   ]
  },
  {
   "cell_type": "code",
   "execution_count": null,
   "metadata": {},
   "outputs": [],
   "source": []
  },
  {
   "cell_type": "code",
   "execution_count": null,
   "metadata": {},
   "outputs": [],
   "source": []
  },
  {
   "cell_type": "code",
   "execution_count": null,
   "metadata": {},
   "outputs": [],
   "source": []
  },
  {
   "cell_type": "code",
   "execution_count": null,
   "metadata": {},
   "outputs": [],
   "source": []
  },
  {
   "cell_type": "code",
   "execution_count": null,
   "metadata": {},
   "outputs": [],
   "source": []
  },
  {
   "cell_type": "code",
   "execution_count": null,
   "metadata": {},
   "outputs": [],
   "source": []
  }
 ],
 "metadata": {
  "kernelspec": {
   "display_name": "Python 3",
   "language": "python",
   "name": "python3"
  },
  "language_info": {
   "codemirror_mode": {
    "name": "ipython",
    "version": 3
   },
   "file_extension": ".py",
   "mimetype": "text/x-python",
   "name": "python",
   "nbconvert_exporter": "python",
   "pygments_lexer": "ipython3",
   "version": "3.7.1"
  }
 },
 "nbformat": 4,
 "nbformat_minor": 2
}
